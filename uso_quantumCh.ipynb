{
  "nbformat": 4,
  "nbformat_minor": 0,
  "metadata": {
    "colab": {
      "name": "uso_quantumCh.ipynb",
      "provenance": [],
      "collapsed_sections": [],
      "include_colab_link": true
    },
    "kernelspec": {
      "name": "python3",
      "display_name": "Python 3"
    }
  },
  "cells": [
    {
      "cell_type": "markdown",
      "metadata": {
        "id": "view-in-github",
        "colab_type": "text"
      },
      "source": [
        "<a href=\"https://colab.research.google.com/github/deleonja/cond-mat-gt/blob/main/uso_quantumCh.ipynb\" target=\"_parent\"><img src=\"https://colab.research.google.com/assets/colab-badge.svg\" alt=\"Open In Colab\"/></a>"
      ]
    },
    {
      "cell_type": "markdown",
      "metadata": {
        "id": "493n2IKB8s6Z"
      },
      "source": [
        "Montamos nuestra carpeta de Drive local en este Jupyter Notebook:"
      ]
    },
    {
      "cell_type": "code",
      "metadata": {
        "id": "lcJzJRDay4RM",
        "colab": {
          "base_uri": "https://localhost:8080/"
        },
        "outputId": "e9b8f00a-4517-47e2-ae2e-744edd563af6"
      },
      "source": [
        "from google.colab import drive\n",
        "drive.mount('/content/drive')"
      ],
      "execution_count": null,
      "outputs": [
        {
          "output_type": "stream",
          "text": [
            "Mounted at /content/drive\n"
          ],
          "name": "stdout"
        }
      ]
    },
    {
      "cell_type": "markdown",
      "metadata": {
        "id": "CACkTduWX8RN"
      },
      "source": [
        "**Si apareció un mensaje que dice 'Mounted at /content/drive' significa que su carpeta de Drive ha sido exitosamente montada en este Jupyter Notebook.**"
      ]
    },
    {
      "cell_type": "markdown",
      "metadata": {
        "id": "65QdhP1j8z4x"
      },
      "source": [
        "Ahora nos vamos a mover entre los directorios a donde se encuentre el .py con el módulo que queremos cargar: (mismos comandos de terminal de UNIX) \n",
        "\n",
        "**IMPORTANTE:** Antes de ejecutar la siguiente celda debe:\n",
        "1. Ir en su Google Drive a donde se encuentre la carpeta de 'cond-mat-GT'\n",
        "2. Click derecho y seleccionar la opción 'Add shortcut to Drive'"
      ]
    },
    {
      "cell_type": "code",
      "metadata": {
        "colab": {
          "base_uri": "https://localhost:8080/"
        },
        "id": "tt8PGS1kzPts",
        "outputId": "15748030-2bf3-4fb8-c7a3-de27bcec10f4"
      },
      "source": [
        "cd /content/drive/My\\ Drive/cond-mat-GT/desarrollo"
      ],
      "execution_count": null,
      "outputs": [
        {
          "output_type": "stream",
          "text": [
            "/content/drive/.shortcut-targets-by-id/1PnVwul5udn36LjedGp-pd4oQK35BjJAC/cond-mat-GT/desarrollo\n"
          ],
          "name": "stdout"
        }
      ]
    },
    {
      "cell_type": "markdown",
      "metadata": {
        "id": "tNdJ1ioE71jj"
      },
      "source": [
        "Para ver el contenido del módulo quantumCh.py:"
      ]
    },
    {
      "cell_type": "code",
      "metadata": {
        "id": "ylgQCsDp7u3Y"
      },
      "source": [
        "!cat quantumCh.py"
      ],
      "execution_count": null,
      "outputs": []
    },
    {
      "cell_type": "markdown",
      "metadata": {
        "id": "jwGGw7n_79DK"
      },
      "source": [
        "Como ya nos encontramos en la dirección de Drive en la que se encuentra el archivo \"quantumCh.py\" ya lo podemos importar como cualquier otro módulo:"
      ]
    },
    {
      "cell_type": "code",
      "metadata": {
        "id": "bLTsZokMzU93"
      },
      "source": [
        "import quantumCh as q\n",
        "import numpy as np"
      ],
      "execution_count": null,
      "outputs": []
    },
    {
      "cell_type": "code",
      "metadata": {
        "colab": {
          "base_uri": "https://localhost:8080/"
        },
        "id": "iuY-44xCYm-e",
        "outputId": "0be08dac-1acc-4739-82a1-d88c7e763eee"
      },
      "source": [
        "q.matrix_form(np.identity(2))"
      ],
      "execution_count": 10,
      "outputs": [
        {
          "output_type": "stream",
          "text": [
            "⎛ 1.0 0.0 ⎞\n",
            "⎝ 0.0 1.0 ⎠\n",
            "\n"
          ],
          "name": "stdout"
        }
      ]
    },
    {
      "cell_type": "markdown",
      "metadata": {
        "id": "yshvyP2ydbEZ"
      },
      "source": [
        "# Por ahí agregar el ejemplo de HSInnerP"
      ]
    }
  ]
}