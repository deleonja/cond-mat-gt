{
  "nbformat": 4,
  "nbformat_minor": 0,
  "metadata": {
    "colab": {
      "name": "uso_quantumCh.ipynb",
      "provenance": [],
      "collapsed_sections": [],
      "include_colab_link": true
    },
    "kernelspec": {
      "name": "python3",
      "display_name": "Python 3"
    }
  },
  "cells": [
    {
      "cell_type": "markdown",
      "metadata": {
        "id": "view-in-github",
        "colab_type": "text"
      },
      "source": [
        "<a href=\"https://colab.research.google.com/github/deleonja/cond-mat-gt/blob/main/python/uso_quantumCh.ipynb\" target=\"_parent\"><img src=\"https://colab.research.google.com/assets/colab-badge.svg\" alt=\"Open In Colab\"/></a>"
      ]
    },
    {
      "cell_type": "markdown",
      "metadata": {
        "id": "493n2IKB8s6Z"
      },
      "source": [
        "Montamos nuestra carpeta de Drive local en este Jupyter Notebook:"
      ]
    },
    {
      "cell_type": "code",
      "metadata": {
        "id": "lcJzJRDay4RM",
        "colab": {
          "base_uri": "https://localhost:8080/"
        },
        "outputId": "691830b8-51cb-45c9-c9de-1ae61539e468"
      },
      "source": [
        "from google.colab import drive\n",
        "drive.mount('/content/drive')"
      ],
      "execution_count": 1,
      "outputs": [
        {
          "output_type": "stream",
          "text": [
            "Drive already mounted at /content/drive; to attempt to forcibly remount, call drive.mount(\"/content/drive\", force_remount=True).\n"
          ],
          "name": "stdout"
        }
      ]
    },
    {
      "cell_type": "markdown",
      "metadata": {
        "id": "CACkTduWX8RN"
      },
      "source": [
        "**Si apareció un mensaje que dice 'Mounted at /content/drive' significa que su carpeta de Drive ha sido exitosamente montada en este Jupyter Notebook.**"
      ]
    },
    {
      "cell_type": "markdown",
      "metadata": {
        "id": "65QdhP1j8z4x"
      },
      "source": [
        "Ahora nos vamos a mover entre los directorios a donde se encuentre el .py con el módulo que queremos cargar: (mismos comandos de terminal de UNIX) \n",
        "\n",
        "**IMPORTANTE:** Antes de ejecutar la siguiente celda debe:\n",
        "1. Ir en su Google Drive a donde se encuentre la carpeta de 'cond-mat-GT'\n",
        "2. Click derecho y seleccionar la opción 'Add shortcut to Drive'"
      ]
    },
    {
      "cell_type": "code",
      "metadata": {
        "colab": {
          "base_uri": "https://localhost:8080/"
        },
        "id": "tt8PGS1kzPts",
        "outputId": "1c921926-bebc-494a-a04c-717f78921e20"
      },
      "source": [
        "cd /content/drive/My\\ Drive/cond-mat-GT/desarrollo"
      ],
      "execution_count": 2,
      "outputs": [
        {
          "output_type": "stream",
          "text": [
            "/content/drive/My Drive/cond-mat-GT/desarrollo\n"
          ],
          "name": "stdout"
        }
      ]
    },
    {
      "cell_type": "markdown",
      "metadata": {
        "id": "tNdJ1ioE71jj"
      },
      "source": [
        "Para ver el contenido del módulo quantumCh.py:"
      ]
    },
    {
      "cell_type": "code",
      "metadata": {
        "id": "ylgQCsDp7u3Y"
      },
      "source": [
        "!cat quantumCh.py"
      ],
      "execution_count": null,
      "outputs": []
    },
    {
      "cell_type": "markdown",
      "metadata": {
        "id": "jwGGw7n_79DK"
      },
      "source": [
        "Como ya nos encontramos en la dirección de Drive en la que se encuentra el archivo \"quantumCh.py\" ya lo podemos importar como cualquier otro módulo:"
      ]
    },
    {
      "cell_type": "code",
      "metadata": {
        "id": "bLTsZokMzU93"
      },
      "source": [
        "import quantumCh as q\n",
        "import numpy as np"
      ],
      "execution_count": 5,
      "outputs": []
    },
    {
      "cell_type": "code",
      "metadata": {
        "colab": {
          "base_uri": "https://localhost:8080/"
        },
        "id": "iuY-44xCYm-e",
        "outputId": "0be08dac-1acc-4739-82a1-d88c7e763eee"
      },
      "source": [
        "q.matrix_form(np.identity(2))"
      ],
      "execution_count": null,
      "outputs": [
        {
          "output_type": "stream",
          "text": [
            "⎛ 1.0 0.0 ⎞\n",
            "⎝ 0.0 1.0 ⎠\n",
            "\n"
          ],
          "name": "stdout"
        }
      ]
    },
    {
      "cell_type": "markdown",
      "metadata": {
        "id": "yshvyP2ydbEZ"
      },
      "source": [
        "# HSInnerP"
      ]
    },
    {
      "cell_type": "markdown",
      "metadata": {
        "id": "wbjW9HOEdc-N"
      },
      "source": [
        "Se crean dos matrices aleatorias (PDF compleja uniforme en el cuadrado ) **A** y **B** de **5x5** y se calcula el producto interno de Hilbert-Schmidt con la función 'HSInnerP':"
      ]
    },
    {
      "cell_type": "code",
      "metadata": {
        "colab": {
          "base_uri": "https://localhost:8080/"
        },
        "id": "zxH5ap1BetRi",
        "outputId": "66090f0c-f3d2-4286-d134-a1d4b65c4d0d"
      },
      "source": [
        "'''\n",
        "To always produce the same results, this seed is used.\n",
        "'''\n",
        "np.random.seed(41230741)\n",
        "\n",
        "\n",
        "'''\n",
        "Generate the two random matrix, A and B, with numpy fuctions.\n",
        "'''\n",
        "A = np.array(np.random.random(25) + np.random.random(25) * 1j).reshape(5,5)\n",
        "\n",
        "B = np.array(np.random.random(25) + np.random.random(25) * 1j).reshape(5,5)\n",
        "\n",
        "print(q.matrix_form(A))\n",
        "print()\n",
        "print(q.matrix_form(B))"
      ],
      "execution_count": 4,
      "outputs": [
        {
          "output_type": "stream",
          "text": [
            "⎛  (0.3539758435610765+0.08290706940425407j)    (0.6776733941554267+0.852773917831725j)    (0.4232288036941664+0.2286431146353619j)     (0.274070055826782+0.7777263848166414j)    (0.2431513436582139+0.18261361399869536j)  ⎞\n",
            "⎢  (0.7286773710866478+0.06905826479091393j)   (0.7294132334642068+0.35916923464528216j)    (0.139994595493814+0.7284421800159513j)    (0.3208692742955962+0.9512263429883033j)    (0.7353436571133266+0.46738058044304875j)  ⎥\n",
            "⎢  (0.8770285694081551+0.9352049326922485j)    (0.1231613604153795+0.09655139840490035j)  (0.016362202339384124+0.23821708107011041j)  (0.9633455764631537+0.8476432748906555j)    (0.2575004090520282+0.20306984133999284j)  ⎥\n",
            "⎢  (0.17014645096270797+0.4046863647781799j)   (0.3711348402163648+0.3209566977944557j)     (0.8642237210708867+0.791634510320129j)    (0.9720495616413471+0.3935501608014068j)    (0.3214392000093502+0.9262499672135313j)   ⎥\n",
            "⎝  (0.5581934972101842+0.0693130850933662j)    (0.8385577661506316+0.9816421561863306j)    (0.9948460310363173+0.09422677234254306j)   (0.6240341643603461+0.8283109763076402j)    (0.892118902222819+0.42536494406381975j)   ⎠\n",
            "\n",
            "None\n",
            "\n",
            "⎛ (0.37926016391492046+0.8794823387345966j)   (0.1913961672328306+0.9302904603826613j)  (0.7249171723942912+0.13230009962382905j)   (0.3660174763818046+0.1814174251383559j)    (0.859386439487035+0.302543455452302j)   ⎞\n",
            "⎢  (0.9211313385173407+0.5411802214323779j)   (0.5221351504602326+0.960554343558596j)    (0.4999640357082026+0.8823744569716154j)   (0.8579593241284045+0.9055902616556375j)  (0.17797962830825698+0.6275918237054051j)  ⎥\n",
            "⎢ (0.002901931460949081+0.8650688903146574j) (0.37930512119328297+0.7559050783471667j)   (0.6688015819055101+0.7376083209703324j)   (0.2125447821947415+0.8598116737485632j)  (0.20486878952713528+0.6186291095047387j)  ⎥\n",
            "⎢  (0.107398438524141+0.5949264612907197j)    (0.9893299766963819+0.3222586531214231j)  (0.38946151836500864+0.8163931062648347j)  (0.22906735133110745+0.5052082373112072j)   (0.8845807945435247+0.9087189831898037j)  ⎥\n",
            "⎝  (0.7160694754513813+0.8189571049463978j)  (0.07759184558352072+0.30271445198113434j)  (0.19120981750416532+0.577309046994231j)  (0.12740872040320883+0.5909414197797401j)   (0.5111815289600298+0.9806484065082974j)  ⎠\n",
            "\n",
            "None\n"
          ],
          "name": "stdout"
        }
      ]
    },
    {
      "cell_type": "markdown",
      "metadata": {
        "id": "2EJyPuyDq0Kg"
      },
      "source": [
        "Las matrices **A** y **B** se usan como argumentos de la funcion **HSInnerP**."
      ]
    },
    {
      "cell_type": "code",
      "metadata": {
        "colab": {
          "base_uri": "https://localhost:8080/"
        },
        "id": "Q7hEjeoSrQFT",
        "outputId": "1ab4fcea-a7bb-4e2f-c6fc-0f53fcddf025"
      },
      "source": [
        "q.HSInnerP(A,B)"
      ],
      "execution_count": null,
      "outputs": [
        {
          "output_type": "execute_result",
          "data": {
            "text/plain": [
              "(13.676337345706235+4.398902904832463j)"
            ]
          },
          "metadata": {
            "tags": []
          },
          "execution_count": 52
        }
      ]
    },
    {
      "cell_type": "markdown",
      "metadata": {
        "id": "cVduTaZ6k1r3"
      },
      "source": [
        "## **Pauli**"
      ]
    },
    {
      "cell_type": "markdown",
      "metadata": {
        "id": "4xHB1vB5k6xs"
      },
      "source": [
        "$\\sigma_1\\otimes\\sigma_2$:"
      ]
    },
    {
      "cell_type": "code",
      "metadata": {
        "colab": {
          "base_uri": "https://localhost:8080/"
        },
        "id": "vW63cQHEkIeB",
        "outputId": "63d665fa-674b-43c9-e721-5eff7e187b29"
      },
      "source": [
        "q.matrix_form(q.Pauli([1,2]))"
      ],
      "execution_count": 6,
      "outputs": [
        {
          "output_type": "stream",
          "text": [
            "⎛ 0j  0j  0j  -1j ⎞\n",
            "⎢ 0j  0j  1j  0j  ⎥\n",
            "⎢ 0j  -1j 0j  0j  ⎥\n",
            "⎝ 1j  0j  0j  0j  ⎠\n",
            "\n"
          ],
          "name": "stdout"
        }
      ]
    },
    {
      "cell_type": "markdown",
      "metadata": {
        "id": "wH81pDOblBjt"
      },
      "source": [
        "$\\sigma_0\\otimes\\sigma_3\\otimes\\sigma_1$:"
      ]
    },
    {
      "cell_type": "code",
      "metadata": {
        "colab": {
          "base_uri": "https://localhost:8080/"
        },
        "id": "4agGPU3flIO7",
        "outputId": "2cd5b5a2-0db4-422a-ddaf-a06185cd556f"
      },
      "source": [
        "q.matrix_form(q.Pauli([0,3,1]))"
      ],
      "execution_count": 7,
      "outputs": [
        {
          "output_type": "stream",
          "text": [
            "⎛   0j    (1+0j)    0j      0j      0j      0j      0j      0j    ⎞\n",
            "⎢ (1+0j)    0j      0j      0j      0j      0j      0j      0j    ⎥\n",
            "⎢   0j      0j    (-0+0j) (-1+0j)   0j      0j    (-0+0j) (-0+0j) ⎥\n",
            "⎢   0j      0j    (-1+0j) (-0+0j)   0j      0j    (-0+0j) (-0+0j) ⎥\n",
            "⎢   0j      0j      0j      0j      0j    (1+0j)    0j      0j    ⎥\n",
            "⎢   0j      0j      0j      0j    (1+0j)    0j      0j      0j    ⎥\n",
            "⎢   0j      0j    (-0+0j) (-0+0j)   0j      0j    (-0+0j) (-1+0j) ⎥\n",
            "⎝   0j      0j    (-0+0j) (-0+0j)   0j      0j    (-1+0j) (-0+0j) ⎠\n",
            "\n"
          ],
          "name": "stdout"
        }
      ]
    }
  ]
}