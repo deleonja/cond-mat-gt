{
  "nbformat": 4,
  "nbformat_minor": 0,
  "metadata": {
    "colab": {
      "name": "uso_quantumCh.ipynb",
      "provenance": [],
      "collapsed_sections": [
        "yshvyP2ydbEZ",
        "cVduTaZ6k1r3",
        "VRfnqL86c1xN",
        "A0YfkCOclXel",
        "m3p4sKztnZyR"
      ],
      "include_colab_link": true
    },
    "kernelspec": {
      "name": "python3",
      "display_name": "Python 3"
    }
  },
  "cells": [
    {
      "cell_type": "markdown",
      "metadata": {
        "id": "view-in-github",
        "colab_type": "text"
      },
      "source": [
        "<a href=\"https://colab.research.google.com/github/deleonja/cond-mat-gt/blob/main/python/uso_quantumCh.ipynb\" target=\"_parent\"><img src=\"https://colab.research.google.com/assets/colab-badge.svg\" alt=\"Open In Colab\"/></a>"
      ]
    },
    {
      "cell_type": "markdown",
      "metadata": {
        "id": "8viGIOytmlEz"
      },
      "source": [
        "##**Ejecute estas celdas antes de usar este jupyter notebook:**"
      ]
    },
    {
      "cell_type": "markdown",
      "metadata": {
        "id": "ETVueNMDp6FR"
      },
      "source": [
        "Usted deberá tener un __atajo__ de la carpeta 'cond-mat-GT' en su carpeta de Drive (en 'My Drive'. Si la carpeta se encuentra en 'Shared With Me' las siguientes celdas darán error). Al hacer click derecho en la carpeta se despliega la opción \"Add shortcut to Drive\". Esa es la opción que debe seleccionar antes de ejecutar las siguientes tres celdas. "
      ]
    },
    {
      "cell_type": "code",
      "metadata": {
        "id": "lcJzJRDay4RM",
        "colab": {
          "base_uri": "https://localhost:8080/"
        },
        "outputId": "376eb3c7-d186-4868-fef8-5d2db68736e3"
      },
      "source": [
        "from google.colab import drive\n",
        "drive.mount('/content/drive')"
      ],
      "execution_count": 1,
      "outputs": [
        {
          "output_type": "stream",
          "text": [
            "Drive already mounted at /content/drive; to attempt to forcibly remount, call drive.mount(\"/content/drive\", force_remount=True).\n"
          ],
          "name": "stdout"
        }
      ]
    },
    {
      "cell_type": "code",
      "metadata": {
        "colab": {
          "base_uri": "https://localhost:8080/"
        },
        "id": "tt8PGS1kzPts",
        "outputId": "7d9dec00-e4bc-4c1f-e98f-1dad850bba21"
      },
      "source": [
        "cd /content/drive/My\\ Drive/cond-mat-GT/desarrollo"
      ],
      "execution_count": 2,
      "outputs": [
        {
          "output_type": "stream",
          "text": [
            "/content/drive/My Drive/cond-mat-GT/desarrollo\n"
          ],
          "name": "stdout"
        }
      ]
    },
    {
      "cell_type": "code",
      "metadata": {
        "id": "bLTsZokMzU93"
      },
      "source": [
        "import quantumCh as q\n",
        "import numpy as np"
      ],
      "execution_count": 3,
      "outputs": []
    },
    {
      "cell_type": "markdown",
      "metadata": {
        "id": "yshvyP2ydbEZ"
      },
      "source": [
        "## __HSInnerP()__"
      ]
    },
    {
      "cell_type": "markdown",
      "metadata": {
        "id": "wbjW9HOEdc-N"
      },
      "source": [
        "Se crean dos matrices aleatorias (PDF compleja uniforme en el cuadrado ) **A** y **B** de **5x5** y se calcula el producto interno de Hilbert-Schmidt con la función 'HSInnerP':"
      ]
    },
    {
      "cell_type": "code",
      "metadata": {
        "colab": {
          "base_uri": "https://localhost:8080/"
        },
        "id": "zxH5ap1BetRi",
        "outputId": "66090f0c-f3d2-4286-d134-a1d4b65c4d0d"
      },
      "source": [
        "'''\n",
        "To always produce the same results, this seed is used.\n",
        "'''\n",
        "np.random.seed(41230741)\n",
        "\n",
        "\n",
        "'''\n",
        "Generate the two random matrix, A and B, with numpy fuctions.\n",
        "'''\n",
        "A = np.array(np.random.random(25) + np.random.random(25) * 1j).reshape(5,5)\n",
        "\n",
        "B = np.array(np.random.random(25) + np.random.random(25) * 1j).reshape(5,5)\n",
        "\n",
        "print(q.matrix_form(A))\n",
        "print()\n",
        "print(q.matrix_form(B))"
      ],
      "execution_count": null,
      "outputs": [
        {
          "output_type": "stream",
          "text": [
            "⎛  (0.3539758435610765+0.08290706940425407j)    (0.6776733941554267+0.852773917831725j)    (0.4232288036941664+0.2286431146353619j)     (0.274070055826782+0.7777263848166414j)    (0.2431513436582139+0.18261361399869536j)  ⎞\n",
            "⎢  (0.7286773710866478+0.06905826479091393j)   (0.7294132334642068+0.35916923464528216j)    (0.139994595493814+0.7284421800159513j)    (0.3208692742955962+0.9512263429883033j)    (0.7353436571133266+0.46738058044304875j)  ⎥\n",
            "⎢  (0.8770285694081551+0.9352049326922485j)    (0.1231613604153795+0.09655139840490035j)  (0.016362202339384124+0.23821708107011041j)  (0.9633455764631537+0.8476432748906555j)    (0.2575004090520282+0.20306984133999284j)  ⎥\n",
            "⎢  (0.17014645096270797+0.4046863647781799j)   (0.3711348402163648+0.3209566977944557j)     (0.8642237210708867+0.791634510320129j)    (0.9720495616413471+0.3935501608014068j)    (0.3214392000093502+0.9262499672135313j)   ⎥\n",
            "⎝  (0.5581934972101842+0.0693130850933662j)    (0.8385577661506316+0.9816421561863306j)    (0.9948460310363173+0.09422677234254306j)   (0.6240341643603461+0.8283109763076402j)    (0.892118902222819+0.42536494406381975j)   ⎠\n",
            "\n",
            "None\n",
            "\n",
            "⎛ (0.37926016391492046+0.8794823387345966j)   (0.1913961672328306+0.9302904603826613j)  (0.7249171723942912+0.13230009962382905j)   (0.3660174763818046+0.1814174251383559j)    (0.859386439487035+0.302543455452302j)   ⎞\n",
            "⎢  (0.9211313385173407+0.5411802214323779j)   (0.5221351504602326+0.960554343558596j)    (0.4999640357082026+0.8823744569716154j)   (0.8579593241284045+0.9055902616556375j)  (0.17797962830825698+0.6275918237054051j)  ⎥\n",
            "⎢ (0.002901931460949081+0.8650688903146574j) (0.37930512119328297+0.7559050783471667j)   (0.6688015819055101+0.7376083209703324j)   (0.2125447821947415+0.8598116737485632j)  (0.20486878952713528+0.6186291095047387j)  ⎥\n",
            "⎢  (0.107398438524141+0.5949264612907197j)    (0.9893299766963819+0.3222586531214231j)  (0.38946151836500864+0.8163931062648347j)  (0.22906735133110745+0.5052082373112072j)   (0.8845807945435247+0.9087189831898037j)  ⎥\n",
            "⎝  (0.7160694754513813+0.8189571049463978j)  (0.07759184558352072+0.30271445198113434j)  (0.19120981750416532+0.577309046994231j)  (0.12740872040320883+0.5909414197797401j)   (0.5111815289600298+0.9806484065082974j)  ⎠\n",
            "\n",
            "None\n"
          ],
          "name": "stdout"
        }
      ]
    },
    {
      "cell_type": "markdown",
      "metadata": {
        "id": "2EJyPuyDq0Kg"
      },
      "source": [
        "Las matrices **A** y **B** se usan como argumentos de la funcion **HSInnerP**."
      ]
    },
    {
      "cell_type": "code",
      "metadata": {
        "colab": {
          "base_uri": "https://localhost:8080/"
        },
        "id": "Q7hEjeoSrQFT",
        "outputId": "1ab4fcea-a7bb-4e2f-c6fc-0f53fcddf025"
      },
      "source": [
        "q.HSInnerP(A,B)"
      ],
      "execution_count": null,
      "outputs": [
        {
          "output_type": "execute_result",
          "data": {
            "text/plain": [
              "(13.676337345706235+4.398902904832463j)"
            ]
          },
          "metadata": {
            "tags": []
          },
          "execution_count": 52
        }
      ]
    },
    {
      "cell_type": "markdown",
      "metadata": {
        "id": "cVduTaZ6k1r3"
      },
      "source": [
        "## **Pauli()**"
      ]
    },
    {
      "cell_type": "code",
      "metadata": {
        "colab": {
          "base_uri": "https://localhost:8080/"
        },
        "id": "oIjIk247rhX9",
        "outputId": "cfd08fcd-17bf-4dae-e819-d0a65027cb08"
      },
      "source": [
        "help(q.Pauli)"
      ],
      "execution_count": 6,
      "outputs": [
        {
          "output_type": "stream",
          "text": [
            "Help on function Pauli in module quantumCh:\n",
            "\n",
            "Pauli(indices)\n",
            "    Pauli(indices) computes the tensor product of Pauli matrices with indices\n",
            "    in _indices_.\n",
            "    \n",
            "    ### __Parameters:__\n",
            "    indices: 1D array_like\n",
            "        Indices of Pauli matrices.\n",
            "    \n",
            "    ### __Returns:__\n",
            "    out: 2D array_like\n",
            "        Tensor product of Pauli matrices.\n",
            "    \n",
            "    ### __Examples:__\n",
            "    Pauli([1,2]) = sigma_x $tensor$ sigma_y\n",
            "    \n",
            "    Pauli([2,3,0]) = sigma_y $tensor$ sigma_z $tensor$ identity\n",
            "    \n",
            "    _Author: J.A. de León_\n",
            "\n"
          ],
          "name": "stdout"
        }
      ]
    },
    {
      "cell_type": "markdown",
      "metadata": {
        "id": "4xHB1vB5k6xs"
      },
      "source": [
        "$\\sigma_1\\otimes\\sigma_2$:"
      ]
    },
    {
      "cell_type": "code",
      "metadata": {
        "colab": {
          "base_uri": "https://localhost:8080/"
        },
        "id": "vW63cQHEkIeB",
        "outputId": "cdfb3612-824f-4cac-f76c-8d49158b87a8"
      },
      "source": [
        "q.matrix_form(q.Pauli([1,2]))"
      ],
      "execution_count": null,
      "outputs": [
        {
          "output_type": "stream",
          "text": [
            "⎛ 0j  0j  0j  -1j ⎞\n",
            "⎢ 0j  0j  1j  0j  ⎥\n",
            "⎢ 0j  -1j 0j  0j  ⎥\n",
            "⎝ 1j  0j  0j  0j  ⎠\n",
            "\n"
          ],
          "name": "stdout"
        }
      ]
    },
    {
      "cell_type": "markdown",
      "metadata": {
        "id": "wH81pDOblBjt"
      },
      "source": [
        "$\\sigma_0\\otimes\\sigma_3\\otimes\\sigma_1$:"
      ]
    },
    {
      "cell_type": "code",
      "metadata": {
        "colab": {
          "base_uri": "https://localhost:8080/"
        },
        "id": "4agGPU3flIO7",
        "outputId": "142535d2-d1fb-4bd2-9033-cd19b063f008"
      },
      "source": [
        "q.matrix_form(q.Pauli([0,3,1]))"
      ],
      "execution_count": null,
      "outputs": [
        {
          "output_type": "stream",
          "text": [
            "⎛   0j    (1+0j)    0j      0j      0j      0j      0j      0j    ⎞\n",
            "⎢ (1+0j)    0j      0j      0j      0j      0j      0j      0j    ⎥\n",
            "⎢   0j      0j    (-0+0j) (-1+0j)   0j      0j    (-0+0j) (-0+0j) ⎥\n",
            "⎢   0j      0j    (-1+0j) (-0+0j)   0j      0j    (-0+0j) (-0+0j) ⎥\n",
            "⎢   0j      0j      0j      0j      0j    (1+0j)    0j      0j    ⎥\n",
            "⎢   0j      0j      0j      0j    (1+0j)    0j      0j      0j    ⎥\n",
            "⎢   0j      0j    (-0+0j) (-0+0j)   0j      0j    (-0+0j) (-1+0j) ⎥\n",
            "⎝   0j      0j    (-0+0j) (-0+0j)   0j      0j    (-1+0j) (-0+0j) ⎠\n",
            "\n"
          ],
          "name": "stdout"
        }
      ]
    },
    {
      "cell_type": "markdown",
      "metadata": {
        "id": "VRfnqL86c1xN"
      },
      "source": [
        "## __Dirac()__"
      ]
    },
    {
      "cell_type": "markdown",
      "metadata": {
        "id": "oYas3fqefJoD"
      },
      "source": [
        "La función _Dirac()_ imprime en notación de Dirac los vectores de estado de un sistema de particulas de espín 1/2. Dos nomenclaturas pueden ser utilizadas:\n",
        "1. Computacional: '01'\n",
        "2. Más y menos: '+ -'"
      ]
    },
    {
      "cell_type": "markdown",
      "metadata": {
        "id": "z4921IxLfyQK"
      },
      "source": [
        "Más información sobre la documentación de Dirac():"
      ]
    },
    {
      "cell_type": "code",
      "metadata": {
        "colab": {
          "base_uri": "https://localhost:8080/"
        },
        "id": "giCQJeYCdBNX",
        "outputId": "d70f45e4-29c7-4919-d95b-dc93b72e468d"
      },
      "source": [
        "help(q.Dirac)"
      ],
      "execution_count": 4,
      "outputs": [
        {
          "output_type": "stream",
          "text": [
            "Help on function Dirac in module quantumCh:\n",
            "\n",
            "Dirac(vector, nomenclature='10')\n",
            "    Dirac(vector, nomenclature) prints _vector_ in Dirac notation using\n",
            "    computational (10) or plus-minus (+-) nomenclature for state vectors\n",
            "    of a system of spin-1/2 particles.\n",
            "    \n",
            "    ### __Parameters:__\n",
            "    vector: 1D array_like\n",
            "        State vector of a system of spin-1/2 particles.\n",
            "    \n",
            "    nomenclature (kwarg): default '10' or '+-'\n",
            "        Nomenclature used to print kets.\n",
            "    \n",
            "    ### __Returns:__\n",
            "    out: string\n",
            "        Vector in Dirac notation.\n",
            "    \n",
            "    ### __Example:__\n",
            "    Dirac(np.array([1,-4,2,-3])) = |00> - 4|01> + 2|10> - 3|11>.\n",
            "    \n",
            "    Dirac(np.array([1,-4,2,-3]), nomenclature='+-') = |++> - 4|+-> + 2|-+> - 3|-->\n",
            "    \n",
            "    _Author: J.A. de León_\n",
            "\n"
          ],
          "name": "stdout"
        }
      ]
    },
    {
      "cell_type": "code",
      "metadata": {
        "colab": {
          "base_uri": "https://localhost:8080/"
        },
        "id": "4hpLnReRdGB5",
        "outputId": "38513c28-487b-456a-c132-1d22d9362518"
      },
      "source": [
        "q.Dirac([1,-2.5,-1,4])"
      ],
      "execution_count": 5,
      "outputs": [
        {
          "output_type": "stream",
          "text": [
            "|00> - 2.5|01> - |10> + 4|11>"
          ],
          "name": "stdout"
        }
      ]
    },
    {
      "cell_type": "code",
      "metadata": {
        "id": "HaZOtwRWdToc",
        "colab": {
          "base_uri": "https://localhost:8080/"
        },
        "outputId": "08cadf4f-32eb-477f-d0b6-54a3fce9577a"
      },
      "source": [
        "q.Dirac([1,-2.5,-1,4], nomenclature='+-')"
      ],
      "execution_count": 6,
      "outputs": [
        {
          "output_type": "stream",
          "text": [
            "|++> - 2.5|+-> - |-+> + 4|-->"
          ],
          "name": "stdout"
        }
      ]
    },
    {
      "cell_type": "code",
      "metadata": {
        "colab": {
          "base_uri": "https://localhost:8080/"
        },
        "id": "OpB-u1HrfjcX",
        "outputId": "ba0538dc-98ca-4151-a850-b6de5949541f"
      },
      "source": [
        "q.Dirac([0,0,-2.5,0,-1,7,4,1])"
      ],
      "execution_count": 7,
      "outputs": [
        {
          "output_type": "stream",
          "text": [
            "2.5|010> - |100> + 7|101> + 4|110> + |111>"
          ],
          "name": "stdout"
        }
      ]
    },
    {
      "cell_type": "code",
      "metadata": {
        "colab": {
          "base_uri": "https://localhost:8080/"
        },
        "id": "381CsqT2fqJA",
        "outputId": "fcc01a03-83c1-42f1-ccee-0cc91b976ab2"
      },
      "source": [
        "q.Dirac([0,0,-2.5,0,-1,7,4,1], nomenclature='+-')"
      ],
      "execution_count": 8,
      "outputs": [
        {
          "output_type": "stream",
          "text": [
            "2.5|+-+> - |-++> + 7|-+-> + 4|--+> + |--->"
          ],
          "name": "stdout"
        }
      ]
    },
    {
      "cell_type": "markdown",
      "metadata": {
        "id": "A0YfkCOclXel"
      },
      "source": [
        "## __PauliChannel()__"
      ]
    },
    {
      "cell_type": "code",
      "metadata": {
        "colab": {
          "base_uri": "https://localhost:8080/"
        },
        "id": "7U8FUCLblaBf",
        "outputId": "6b003153-7905-4493-a917-4a51ed65143b"
      },
      "source": [
        "help(q.PauliChannel)"
      ],
      "execution_count": 8,
      "outputs": [
        {
          "output_type": "stream",
          "text": [
            "Help on function PauliChannel in module quantumCh:\n",
            "\n",
            "PauliChannel(diagonal)\n",
            "    PauliChannel(diagonal) computes the superoperator of a Pauli quantum channel\n",
            "    in computational basis, given its diagonal elements oh the superoperator\n",
            "    in the tensor product of Pauli matrices basis.\n",
            "    \n",
            "    ### __Parameters:__\n",
            "    diagonal: 1D array_like\n",
            "        Diagonal of superoperator in Pauli tensor products.\n",
            "    \n",
            "    ### __Returns:__\n",
            "    PauliChannel: 2D array_like\n",
            "        Superoperator in computational basis.\n",
            "    \n",
            "    _Author: J.A. de León_\n",
            "\n"
          ],
          "name": "stdout"
        }
      ]
    },
    {
      "cell_type": "markdown",
      "metadata": {
        "id": "ERH86bFSnAoG"
      },
      "source": [
        "Canal cuántico que borra la componentes $x$ del vector de Bloch de 1 qubit:"
      ]
    },
    {
      "cell_type": "code",
      "metadata": {
        "colab": {
          "base_uri": "https://localhost:8080/"
        },
        "id": "Q4nbPDbNmOo2",
        "outputId": "8f07e715-780d-4bf2-c690-a475427d5f1a"
      },
      "source": [
        "q.MatrixForm(q.PauliChannel([1,0,1,1]))"
      ],
      "execution_count": 11,
      "outputs": [
        {
          "output_type": "stream",
          "text": [
            "⎛  (1+0j)      0j        0j        0j     ⎞\n",
            "⎢    0j     (0.5+0j)  (-0.5+0j)    0j     ⎥\n",
            "⎢    0j     (-0.5+0j) (0.5+0j)     0j     ⎥\n",
            "⎝    0j        0j        0j      (1+0j)   ⎠\n",
            "\n"
          ],
          "name": "stdout"
        }
      ]
    },
    {
      "cell_type": "markdown",
      "metadata": {
        "id": "TTfG2anYnWjK"
      },
      "source": [
        "Un canal cuántico de 2 qubits:"
      ]
    },
    {
      "cell_type": "code",
      "metadata": {
        "colab": {
          "base_uri": "https://localhost:8080/"
        },
        "id": "drRQJDWlmbA1",
        "outputId": "8704eb44-2738-4ff7-f69d-e6f1c7dedbc8"
      },
      "source": [
        "q.MatrixForm(q.PauliChannel([1,0,1,0,1,0,1,0,1,0,1,0,1,0,1,0]))"
      ],
      "execution_count": 7,
      "outputs": [
        {
          "output_type": "stream",
          "text": [
            "⎛ (0.5+0j)     0j        0j        0j        0j     (0.5+0j)     0j        0j        0j        0j        0j        0j        0j        0j        0j        0j     ⎞\n",
            "⎢    0j     (0.5+0j)     0j        0j     (-0.5+0j)    0j        0j        0j        0j        0j        0j        0j        0j        0j        0j        0j     ⎥\n",
            "⎢    0j        0j     (0.5+0j)     0j        0j        0j        0j     (0.5+0j)     0j        0j        0j        0j        0j        0j        0j        0j     ⎥\n",
            "⎢    0j        0j        0j     (0.5+0j)     0j        0j     (-0.5+0j)    0j        0j        0j        0j        0j        0j        0j        0j        0j     ⎥\n",
            "⎢    0j     (-0.5+0j)    0j        0j     (0.5+0j)     0j        0j        0j        0j        0j        0j        0j        0j        0j        0j        0j     ⎥\n",
            "⎢ (0.5+0j)     0j        0j        0j        0j     (0.5+0j)     0j        0j        0j        0j        0j        0j        0j        0j        0j        0j     ⎥\n",
            "⎢    0j        0j        0j     (-0.5+0j)    0j        0j     (0.5+0j)     0j        0j        0j        0j        0j        0j        0j        0j        0j     ⎥\n",
            "⎢    0j        0j     (0.5+0j)     0j        0j        0j        0j     (0.5+0j)     0j        0j        0j        0j        0j        0j        0j        0j     ⎥\n",
            "⎢    0j        0j        0j        0j        0j        0j        0j        0j     (0.5+0j)     0j        0j        0j        0j     (0.5+0j)     0j        0j     ⎥\n",
            "⎢    0j        0j        0j        0j        0j        0j        0j        0j        0j     (0.5+0j)     0j        0j     (-0.5+0j)    0j        0j        0j     ⎥\n",
            "⎢    0j        0j        0j        0j        0j        0j        0j        0j        0j        0j     (0.5+0j)     0j        0j        0j        0j     (0.5+0j)  ⎥\n",
            "⎢    0j        0j        0j        0j        0j        0j        0j        0j        0j        0j        0j     (0.5+0j)     0j        0j     (-0.5+0j)    0j     ⎥\n",
            "⎢    0j        0j        0j        0j        0j        0j        0j        0j        0j     (-0.5+0j)    0j        0j     (0.5+0j)     0j        0j        0j     ⎥\n",
            "⎢    0j        0j        0j        0j        0j        0j        0j        0j     (0.5+0j)     0j        0j        0j        0j     (0.5+0j)     0j        0j     ⎥\n",
            "⎢    0j        0j        0j        0j        0j        0j        0j        0j        0j        0j        0j     (-0.5+0j)    0j        0j     (0.5+0j)     0j     ⎥\n",
            "⎝    0j        0j        0j        0j        0j        0j        0j        0j        0j        0j     (0.5+0j)     0j        0j        0j        0j     (0.5+0j)  ⎠\n",
            "\n"
          ],
          "name": "stdout"
        }
      ]
    },
    {
      "cell_type": "markdown",
      "metadata": {
        "id": "m3p4sKztnZyR"
      },
      "source": [
        "## __Reshuffle()__"
      ]
    },
    {
      "cell_type": "markdown",
      "metadata": {
        "id": "3unQMEV-oG_4"
      },
      "source": [
        "Documentación de Reshuffle():"
      ]
    },
    {
      "cell_type": "code",
      "metadata": {
        "colab": {
          "base_uri": "https://localhost:8080/"
        },
        "id": "eRdFvsVuoKCW",
        "outputId": "8d4e396a-abdd-4e73-c2e3-b78da19fb462"
      },
      "source": [
        "help(q.Reshuffle)"
      ],
      "execution_count": 15,
      "outputs": [
        {
          "output_type": "stream",
          "text": [
            "Help on function Reshuffle in module quantumCh:\n",
            "\n",
            "Reshuffle(E)\n",
            "    Reshuffle(A) reshuffles A, with A a superoperator acting on density matrices\n",
            "    of a system of spin 1/2 particles.\n",
            "    \n",
            "    ### __Parameters__:\n",
            "    A: 2D array_like\n",
            "        Superoperator acting on density matrices of a system of spin 1/2 particles.\n",
            "    \n",
            "    ### __Returns__:\n",
            "    out: 2D array_like\n",
            "        Choi matrix of A, A^R.\n",
            "    \n",
            "    _Author: J.A. de León_\n",
            "\n"
          ],
          "name": "stdout"
        }
      ]
    },
    {
      "cell_type": "markdown",
      "metadata": {
        "id": "JpJwF0o8ny91"
      },
      "source": [
        "Matriz de Choi de la operacion que borra la componente en $x$ del vector de Bloch de 1 qubit:"
      ]
    },
    {
      "cell_type": "code",
      "metadata": {
        "colab": {
          "base_uri": "https://localhost:8080/"
        },
        "id": "wuj9FnTtnb1_",
        "outputId": "f855c999-e83a-4307-ef2e-1bb431bc0bd4"
      },
      "source": [
        "q.MatrixForm(q.Reshuffle(q.PauliChannel([1,0,1,1])))"
      ],
      "execution_count": 13,
      "outputs": [
        {
          "output_type": "stream",
          "text": [
            "⎛  (1+0j)      0j        0j     (0.5+0j)  ⎞\n",
            "⎢    0j        0j     (-0.5+0j)    0j     ⎥\n",
            "⎢    0j     (-0.5+0j)    0j        0j     ⎥\n",
            "⎝ (0.5+0j)     0j        0j      (1+0j)   ⎠\n",
            "\n"
          ],
          "name": "stdout"
        }
      ]
    },
    {
      "cell_type": "markdown",
      "metadata": {
        "id": "r34BG7MAoCsx"
      },
      "source": [
        "Matriz de Choi del segundo ejemplo de canal cuántico de la sección anterior:"
      ]
    },
    {
      "cell_type": "code",
      "metadata": {
        "colab": {
          "base_uri": "https://localhost:8080/"
        },
        "id": "3BOKMKq7nhwx",
        "outputId": "d42b16df-73f8-4bed-c245-d748893f311b"
      },
      "source": [
        "q.MatrixForm(q.Reshuffle(q.PauliChannel([1,0,1,0,1,0,1,0,1,0,1,0,1,0,1,0])))"
      ],
      "execution_count": 14,
      "outputs": [
        {
          "output_type": "stream",
          "text": [
            "⎛ (0.5+0j)     0j        0j        0j        0j     (0.5+0j)     0j        0j        0j        0j     (0.5+0j)     0j        0j        0j        0j     (0.5+0j)  ⎞\n",
            "⎢    0j     (0.5+0j)     0j        0j     (-0.5+0j)    0j        0j        0j        0j        0j        0j     (0.5+0j)     0j        0j     (-0.5+0j)    0j     ⎥\n",
            "⎢    0j        0j        0j        0j        0j        0j        0j        0j        0j        0j        0j        0j        0j        0j        0j        0j     ⎥\n",
            "⎢    0j        0j        0j        0j        0j        0j        0j        0j        0j        0j        0j        0j        0j        0j        0j        0j     ⎥\n",
            "⎢    0j     (-0.5+0j)    0j        0j     (0.5+0j)     0j        0j        0j        0j        0j        0j     (-0.5+0j)    0j        0j     (0.5+0j)     0j     ⎥\n",
            "⎢ (0.5+0j)     0j        0j        0j        0j     (0.5+0j)     0j        0j        0j        0j     (0.5+0j)     0j        0j        0j        0j     (0.5+0j)  ⎥\n",
            "⎢    0j        0j        0j        0j        0j        0j        0j        0j        0j        0j        0j        0j        0j        0j        0j        0j     ⎥\n",
            "⎢    0j        0j        0j        0j        0j        0j        0j        0j        0j        0j        0j        0j        0j        0j        0j        0j     ⎥\n",
            "⎢    0j        0j        0j        0j        0j        0j        0j        0j        0j        0j        0j        0j        0j        0j        0j        0j     ⎥\n",
            "⎢    0j        0j        0j        0j        0j        0j        0j        0j        0j        0j        0j        0j        0j        0j        0j        0j     ⎥\n",
            "⎢ (0.5+0j)     0j        0j        0j        0j     (0.5+0j)     0j        0j        0j        0j     (0.5+0j)     0j        0j        0j        0j     (0.5+0j)  ⎥\n",
            "⎢    0j     (0.5+0j)     0j        0j     (-0.5+0j)    0j        0j        0j        0j        0j        0j     (0.5+0j)     0j        0j     (-0.5+0j)    0j     ⎥\n",
            "⎢    0j        0j        0j        0j        0j        0j        0j        0j        0j        0j        0j        0j        0j        0j        0j        0j     ⎥\n",
            "⎢    0j        0j        0j        0j        0j        0j        0j        0j        0j        0j        0j        0j        0j        0j        0j        0j     ⎥\n",
            "⎢    0j     (-0.5+0j)    0j        0j     (0.5+0j)     0j        0j        0j        0j        0j        0j     (-0.5+0j)    0j        0j     (0.5+0j)     0j     ⎥\n",
            "⎝ (0.5+0j)     0j        0j        0j        0j     (0.5+0j)     0j        0j        0j        0j     (0.5+0j)     0j        0j        0j        0j     (0.5+0j)  ⎠\n",
            "\n"
          ],
          "name": "stdout"
        }
      ]
    },
    {
      "cell_type": "markdown",
      "metadata": {
        "id": "o9NlXf9voSKo"
      },
      "source": [
        "## __CPTest()__"
      ]
    },
    {
      "cell_type": "markdown",
      "metadata": {
        "id": "TtiJmLSfoUEt"
      },
      "source": [
        "Documentación sobre CPTest():"
      ]
    },
    {
      "cell_type": "code",
      "metadata": {
        "colab": {
          "base_uri": "https://localhost:8080/"
        },
        "id": "Zi68AqoroBg5",
        "outputId": "b647cc51-fe9c-4537-f261-4b10507e57dc"
      },
      "source": [
        "help(q.CPTest)"
      ],
      "execution_count": 16,
      "outputs": [
        {
          "output_type": "stream",
          "text": [
            "Help on function CPTest in module quantumCh:\n",
            "\n",
            "CPTest(E)\n",
            "    CPTest(E) tests the complete positivity of a matrix E.\n",
            "    \n",
            "    ### __Parameters__:\n",
            "    E: 2D array_like\n",
            "        Superoperator acting on density matrices.\n",
            "    ### __Returns__:\n",
            "    out: boolean\n",
            "        True if CP holds, false if not.\n",
            "    \n",
            "    _Author: J.A. de León_\n",
            "\n"
          ],
          "name": "stdout"
        }
      ]
    },
    {
      "cell_type": "markdown",
      "metadata": {
        "id": "pka3HfWYoZBg"
      },
      "source": [
        "Check de la completa positividad de las operaciones de las secciones pasadas:"
      ]
    },
    {
      "cell_type": "code",
      "metadata": {
        "colab": {
          "base_uri": "https://localhost:8080/"
        },
        "id": "i2dakZQFoXjP",
        "outputId": "7520c619-1e1b-439a-d992-c35f506c9f17"
      },
      "source": [
        "q.CPTest(q.PauliChannel([1,0,1,1]))"
      ],
      "execution_count": 4,
      "outputs": [
        {
          "output_type": "execute_result",
          "data": {
            "text/plain": [
              "False"
            ]
          },
          "metadata": {
            "tags": []
          },
          "execution_count": 4
        }
      ]
    },
    {
      "cell_type": "code",
      "metadata": {
        "colab": {
          "base_uri": "https://localhost:8080/"
        },
        "id": "4MqxsETUogeY",
        "outputId": "3951867c-9c03-4a4e-ff33-4f6211247093"
      },
      "source": [
        "q.CPTest(q.PauliChannel([1,0,1,0,1,0,1,0,1,0,1,0,1,0,1,0]))"
      ],
      "execution_count": 5,
      "outputs": [
        {
          "output_type": "execute_result",
          "data": {
            "text/plain": [
              "True"
            ]
          },
          "metadata": {
            "tags": []
          },
          "execution_count": 5
        }
      ]
    }
  ]
}