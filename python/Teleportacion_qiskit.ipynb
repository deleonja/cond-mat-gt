{
 "cells": [
  {
   "cell_type": "code",
   "execution_count": 2,
   "metadata": {
    "id": "0GWucM0V6T6T"
   },
   "outputs": [],
   "source": [
    "#!pip install qiskit ipywidgets    correr esta línea de primero si se trabaja en google collab\n",
    "\n",
    "#Importación de qiskit\n",
    "from qiskit import *\n",
    "\n",
    "%matplotlib inline\n",
    "# Importing standard Qiskit libraries\n",
    "from qiskit.compiler import transpile, assemble\n",
    "from qiskit.tools.jupyter import *\n",
    "from qiskit.tools.monitor import job_monitor\n",
    "from qiskit.visualization import *\n",
    "from ibm_quantum_widgets import *"
   ]
  },
  {
   "cell_type": "markdown",
   "metadata": {
    "id": "SJDtjpOs44fR"
   },
   "source": [
    "# Protocolo de teleportación cuántica realizado en qiskit\n"
   ]
  },
  {
   "cell_type": "markdown",
   "metadata": {
    "id": "hV0DB49N44fW"
   },
   "source": [
    "Para este circuito se pretende enviar el estado $|+> = \\frac{|0> + |1>}{\\sqrt(2)}$ por medio del protocolo de teleportación cuántica. Este código también se puede modificar para enviar cualquier estado que se desee siempre y cuando se trate de $\\textbf{un solo qubit}$\n",
    "\n",
    "La librerías requeridas para poder utilizar este circuito son qiskit y matplotlib."
   ]
  },
  {
   "cell_type": "code",
   "execution_count": 3,
   "metadata": {
    "colab": {
     "base_uri": "https://localhost:8080/"
    },
    "id": "r82RoEt744fW",
    "outputId": "2ef5a9f1-e13f-4cbf-b057-e193e1841161",
    "scrolled": true
   },
   "outputs": [
    {
     "data": {
      "text/plain": [
       "<qiskit.circuit.instructionset.InstructionSet at 0x7f79a7b23880>"
      ]
     },
     "execution_count": 3,
     "metadata": {},
     "output_type": "execute_result"
    }
   ],
   "source": [
    "#Declaración del circuito \n",
    "qreg_q = QuantumRegister(3, 'q')  #3 registros cuánticos\n",
    "creg_c = ClassicalRegister(3, 'c') #3 registros clásicos\n",
    "circuit = QuantumCircuit(qreg_q, creg_c) #Se crea un circuito utilizando estos registros\n",
    "\n",
    "#Instrucciones para el circuito\n",
    "##Inicialización del estado (por defecto todos los estados en qiskit están en |0>)\n",
    "# circuit.x(qreg_q[0])\n",
    "circuit.h(qreg_q[0]) \n",
    "circuit.barrier(qreg_q[0], qreg_q[1], qreg_q[2])\n",
    "\n",
    "#PROTOCOLO DE TELEPORTACIÓN\n",
    "##Inicialización de estado de Bell: Se inicia el estado beta_00\n",
    "circuit.h(qreg_q[1]) # Se pone a q1 en superposición\n",
    "circuit.cx(qreg_q[1], qreg_q[2]) #Se entrelaza con q2 mediante una compuerta not controlada (cx)\n",
    "circuit.cx(qreg_q[0], qreg_q[1]) #Se entrelaza con q0 (qubit a enviar) mediante la misma operación\n",
    "circuit.h(qreg_q[0]) #Se pone en superposición este estado resultante\n",
    "\n",
    "##Continuación del protocolo: Colapsar los estados\n",
    "circuit.measure(qreg_q[0], creg_c[0])  #Se hace una medición en q0 y q1 haciendo que sus estados colapsen\n",
    "circuit.measure(qreg_q[1], creg_c[1])\n",
    "circuit.barrier(qreg_q[1], qreg_q[0], qreg_q[2])\n",
    "\n",
    "##Cierre del protocolo\n",
    "circuit.cx(qreg_q[1], qreg_q[2]) #Se finaliza el protocolo asignando una compuerta cnot para que q2 ajuste su estado en el momento que q0 y q1 comunican el estado resultante que han obtenido, para que así q2 lo ajuste. \n",
    "circuit.cz(qreg_q[0], qreg_q[2]) #Se realiza lo mismo con una cz entra q0 y q1.\n",
    "circuit.measure(qreg_q[2],creg_c[2]) #Se hace medición del estado q_2 "
   ]
  },
  {
   "cell_type": "code",
   "execution_count": 4,
   "metadata": {
    "colab": {
     "base_uri": "https://localhost:8080/",
     "height": 154
    },
    "id": "merJGDH644fX",
    "outputId": "a16e4695-a212-471c-da22-cadab4e32b7a"
   },
   "outputs": [
    {
     "data": {
      "image/png": "[encoded data removed]",
      "text/plain": [
       "<Figure size 748.797x264.88 with 1 Axes>"
      ]
     },
     "execution_count": 4,
     "metadata": {},
     "output_type": "execute_result"
    }
   ],
   "source": [
    "#Se dibuja el circuito \n",
    "%matplotlib inline\n",
    "circuit.draw()"
   ]
  },
  {
   "cell_type": "code",
   "execution_count": 5,
   "metadata": {},
   "outputs": [
    {
     "data": {
      "image/png": "[encoded data removed]",
      "text/plain": [
       "<Figure size 504x360 with 1 Axes>"
      ]
     },
     "execution_count": 5,
     "metadata": {},
     "output_type": "execute_result"
    }
   ],
   "source": [
    "#RESULTADOS SIMULADOS GRACIAS A AER.GET_BACKEND\n",
    "\n",
    "job = execute(circuit, Aer.get_backend('qasm_simulator'),shots=5000).result() \n",
    "# job_monitor(job)\n",
    "#Se muestra a manera de histograma los resultados obtenidos tras ejecutar este circuito en un número considerable de ocasiones\n",
    "from qiskit.tools.visualization import plot_histogram\n",
    "counts=job.get_counts(circuit)\n",
    "plot_histogram(job.get_counts(circuit))"
   ]
  },
  {
   "cell_type": "markdown",
   "metadata": {},
   "source": [
    "Es importante aclarar que en qiskit el estado colapsado a cada qubit correspondiente sería q0,q1,q2 en la forma en como lo muestra el histograma. Si se mide solamente el estado $|+>$ se tendrían las mismas probabilidades 50/50 en los estados  $|0> $y $|1>$ que es lo aproximadamente apreciado aquí. Sin embargo, si se midiese el estado $|->$ se tendrían exactamente las mismas probabilidades!"
   ]
  },
  {
   "cell_type": "markdown",
   "metadata": {
    "id": "OGlyXj1K44fY"
   },
   "source": [
    "$\\textbf{Verificación del estado: tomografía de estado cuántico}$\n",
    "\n",
    "Para darle solución a esto se hace uso de la $\\textbf{tomografía cuántica}$ , específicamente de la $\\textbf{tomografía de estado cuántico}$ o $\\textit{quantum state tomography}$.\n",
    "\n",
    "La tomografía de estado cuántico nos permite reconstruir la matríz de densidad de un qubit obteniendo sus probabilidades a través de distintas bases. Ya que en este caso se trata de un solo qubit se pasa por las bases correspondientes a las matrices de Pauli: $I,X,Y,Z$.\n",
    "\n",
    "Qiskit posee funciones que se encargan de realizar este trabajo, por lo que ahora se retira la última medición en q_2 para que se realice la tomografía de estado cuántico y así obtener su matríz de densidad (para esta parte se debe reiniciar el kernel y dejar como comentario la línea con el texto  $\\texttt{circuit.measure(qreg_q[2],crec_c[2])}$  ), así como el bloque de resultados."
   ]
  },
  {
   "cell_type": "code",
   "execution_count": 8,
   "metadata": {
    "id": "pT5NV42X44fY"
   },
   "outputs": [],
   "source": [
    "#Se importan clases y funciones necesarias para la tomografía\n",
    "import qiskit.quantum_info as qi\n",
    "from qiskit.compiler import assemble\n",
    "\n",
    "# Función para tomografía de estado \n",
    "from qiskit.ignis.verification.tomography import state_tomography_circuits, StateTomographyFitter"
   ]
  },
  {
   "cell_type": "code",
   "execution_count": 9,
   "metadata": {
    "colab": {
     "base_uri": "https://localhost:8080/"
    },
    "id": "nAb1xSwP44fZ",
    "outputId": "f7a96441-d199-4876-80b8-7b49fb1d8da5",
    "scrolled": false
   },
   "outputs": [
    {
     "name": "stdout",
     "output_type": "stream",
     "text": [
      "Job Status: job has successfully run\n"
     ]
    }
   ],
   "source": [
    "# Se genera el circuito del estado de tomografía\n",
    "qst_q0 = state_tomography_circuits(circuit, [qreg_q[2]]) #Se llama al circuito de tomografía y se toma el qubit a medir (que en este caso se verá a q2)\n",
    "\n",
    "#Se manda a ejecutar esta función para su simulación\n",
    "job = qiskit.execute(qst_q0,Aer.get_backend('qasm_simulator'), shots=5000)\n",
    "\n",
    "job_monitor(job)"
   ]
  },
  {
   "cell_type": "code",
   "execution_count": 10,
   "metadata": {},
   "outputs": [
    {
     "data": {
      "text/plain": [
       "{('X',): {'0': 5000},\n",
       " ('Y',): {'0': 2527, '1': 2473},\n",
       " ('Z',): {'0': 2495, '1': 2505}}"
      ]
     },
     "execution_count": 10,
     "metadata": {},
     "output_type": "execute_result"
    }
   ],
   "source": [
    "#Se hace un recuento de los estados obtenidos tras los 5000 shots. \n",
    "fiteo_tomografia = StateTomographyFitter(job.result(), qst_q0) \n",
    "fiteo_tomografia.data #Se muestra la distribución tras pasarlo por cada uno de los operadores"
   ]
  },
  {
   "cell_type": "markdown",
   "metadata": {
    "id": "-dJmhHXF44fZ"
   },
   "source": [
    "Aquí es importante aclarar que los estados 0 y 1 $\\textbf{no son los mismos en cada base}$, es decir que\n",
    "$$|0_x> = \\frac{1}{\\sqrt(2)} (|0_z>+|1_z>)= |+_z> $$\n",
    "$$|1_x> = \\frac{1}{\\sqrt(2)} (|0_z>-|1_z>)= |-_z> $$\n",
    "$$|0_y> = \\frac{1}{\\sqrt(2)} (|0_z>+|1_z>) $$\n",
    "$$|1_y> = \\frac{1}{\\sqrt(2)} (|0_z>-i|1_z>) $$\n",
    "\n",
    "\n",
    "Con estos resultados se puede reconstruir la matríz de densidad del estado correspondiente a q2, el cual corresponde al estado del receptor. Para esto se usan las funciones correspondientes de qiskit."
   ]
  },
  {
   "cell_type": "code",
   "execution_count": 11,
   "metadata": {
    "colab": {
     "base_uri": "https://localhost:8080/"
    },
    "id": "SR5jpOnl44fZ",
    "outputId": "000907fb-f4b7-42d8-f08e-1520d698038e"
   },
   "outputs": [
    {
     "name": "stdout",
     "output_type": "stream",
     "text": [
      "rho_(q_2)= [[0.49900006+0.j         0.49996984-0.00539967j]\n",
      " [0.49996984+0.00539967j 0.50099994+0.j        ]]\n"
     ]
    }
   ],
   "source": [
    "# Se hace el ajuste de tomografía  para obtener la matríz de densidad del estado correspondiente a q_2\n",
    "#Hace este ajsute mediante el método de mínimos cuadrados (o alguno que se seleccione) y lo ajusta hacia\n",
    "#la variable rho(q_2)\n",
    "rho_fit_q2 = fiteo_tomografia.fit(method='auto') \n",
    "print(\"rho_(q_2)=\",rho_fit_q2)"
   ]
  },
  {
   "cell_type": "markdown",
   "metadata": {},
   "source": [
    "$\\textbf{Reconstrucción de la matríz de densidad de forma manual :} $\n",
    "\n",
    "Esta reconstrucción está integrada en qiskit como aprte de las funciones de tomografía de estado cuántico. Esto de igual manera se puede hacer de forma manual reescribiendo la matríz de densidad como \n",
    "    $$ \\rho = \\frac{tr(\\rho)I + tr(X\\rho)X +tr(Y\\rho)Y +tr(Z\\rho)Z }{2}$$\n",
    "de donde $tr(A\\rho)$ puede tomarse como las medidas del operador $A_i$ realizada un n número de veces $n$ como una aproximación de la forma $tr(A\\rho) \t\\simeq \\sum_i z_i/n$\n",
    "En estos casos terminan siendo \n",
    "$$ tr(\\rho) = 1$$\n",
    "$$ tr(X\\rho) = 1 $$\n",
    "$$ tr(Y\\rho) = 0.0044$$\n",
    "$$ tr(Z\\rho) =-0.0096$$\n",
    "\n",
    "Siendo de esta forma la matríz de densidad escrita como \n",
    "  $$ \\rho_+ = \n",
    "    \\begin{pmatrix}\n",
    "    0.4952 & 0.5-0.0022i\\\\ \n",
    "    0.5+0.0022i & 0.4952\n",
    "    \\end{pmatrix}$$  "
   ]
  },
  {
   "cell_type": "markdown",
   "metadata": {
    "id": "x0DpZ0yc44fa"
   },
   "source": [
    "En este momento se encuentra que la matríz de densidad respecto al estado en $q_2$ luego de haber pasado por el protocolo de teleportación. En donde esta matríz, coincide con la correspondiente al estado $|+>$\n",
    "\n",
    "$$ \\rho_+ = \\frac{1}{2}\n",
    "\\begin{pmatrix}\n",
    "1 & 1\\\\ \n",
    "1 & 1\n",
    "\\end{pmatrix}$$\n",
    "\n",
    "\n",
    "\n",
    "La cual es distinta a la que se podría encontrar con el estado $|->$\n",
    "$$  \\rho_- = \\frac{1}{2}\n",
    "\\begin{pmatrix}\n",
    "1 & -1\\\\ \n",
    "-1 & 1\n",
    "\\end{pmatrix}$$\n",
    "\n",
    "Esta diferencia siempre recae en que los estados $|\\pm>$ son autoestados de $X$, por lo que es en esa probabilidad en donde se puede distinguir a cada uno de ellos"
   ]
  },
  {
   "cell_type": "markdown",
   "metadata": {
    "id": "2agSpSaP44fa"
   },
   "source": [
    "\n",
    "Para dar certeza a este proceso tomografico se ve la fidelidad del estado obtenido comparándolo con un estado $|+>$ que no haya sido medido antes. Esto se puede realizar también en qiskit creando otro circuito y realizando la comparación."
   ]
  },
  {
   "cell_type": "code",
   "execution_count": 12,
   "metadata": {
    "colab": {
     "base_uri": "https://localhost:8080/"
    },
    "id": "_1nVkoh_44fa",
    "outputId": "e86d444e-82f9-4929-ef15-268386baa000"
   },
   "outputs": [
    {
     "name": "stdout",
     "output_type": "stream",
     "text": [
      "     ┌───┐\n",
      "q_0: ┤ H ├\n",
      "     └───┘\n",
      "Statevector([0.70710678+0.j, 0.70710678+0.j],\n",
      "            dims=(2,))\n",
      "Fidelidad del estado obtenido respecto al inicial q_0: F = 0.99997\n"
     ]
    }
   ],
   "source": [
    "#Se crea otro \"circuito\" en donde se declara un vector análogo a q_0 que vendría siendo el estado +\n",
    "q2 = QuantumRegister(1, 'q')\n",
    "q0 = QuantumCircuit(q2)\n",
    "\n",
    "q0.h(q2[0])\n",
    "print(q0)\n",
    "\n",
    "#Se declara a este como el estado objetivo para realizar la comparación con la matríz de densidad obtenida antes\n",
    "estado_objetivo = qi.Statevector.from_instruction(q0)\n",
    "print(estado_objetivo)\n",
    "\n",
    "#Se compara la fidelidad del estado obtenido con el estado correspondiente a q_0 (estado +)\n",
    "fidelidad_estado = qi.state_fidelity(rho_fit_q2, estado_objetivo)\n",
    "print('Fidelidad del estado obtenido respecto al inicial q_0: F = {:.5f}'.format(fidelidad_estado))"
   ]
  },
  {
   "cell_type": "markdown",
   "metadata": {
    "id": "UMjTb0rI44fa"
   },
   "source": [
    "Por lo tanto, el qubit q_2 tiene una fidelidad del 99.98% a la del qubit q_0"
   ]
  },
  {
   "cell_type": "markdown",
   "metadata": {},
   "source": [
    "# Resultados experimentales"
   ]
  },
  {
   "cell_type": "markdown",
   "metadata": {},
   "source": [
    "A continuación se muestra el mismo circuito ejecutado en una de las computadoras cuánticas de IBM (ibmq_athens)"
   ]
  },
  {
   "cell_type": "code",
   "execution_count": 14,
   "metadata": {},
   "outputs": [],
   "source": [
    "# Cargando cuenta de IBM (para realizar esto es necesaria una cuenta de IBM, preferiblemente esta sección se peude cargar desde IBM quantum lab)\n",
    "provider = IBMQ.load_account()\n",
    "provider = IBMQ.get_provider('ibm-q')\n",
    "qcomp= provider.get_backend('ibmq_athens') #En este caso se corre en la computadora ibm santiago "
   ]
  },
  {
   "cell_type": "code",
   "execution_count": 40,
   "metadata": {},
   "outputs": [
    {
     "data": {
      "image/png": "[encoded data removed]",
      "text/plain": [
       "<Figure size 748.797x264.88 with 1 Axes>"
      ]
     },
     "execution_count": 40,
     "metadata": {},
     "output_type": "execute_result"
    }
   ],
   "source": [
    "#EL CIRCUITO SE VUELVE A DECLARAR EN CASO DE QUE HAYA ALGÚN ERROR O SE QUIERA TRABAJAR DE OTRA FORMA, DE IGUAL MANERA SE PUEDE CREAR\n",
    "#OTRO CIRCUITO CON LA MISMA CONFIGURACIÓN\n",
    "\n",
    "#Declaración del circuito \n",
    "qreg_q = QuantumRegister(3, 'q')  #3 registros cuánticos\n",
    "creg_c = ClassicalRegister(3, 'c') #3 registros clásicos\n",
    "circuit = QuantumCircuit(qreg_q, creg_c) #Se crea un circuito utilizando estos registros\n",
    "\n",
    "#Instrucciones para el circuito\n",
    "##Inicialización del estado (por defecto todos los estados en qiskit están en |0>)\n",
    "circuit.h(qreg_q[0]) \n",
    "circuit.barrier(qreg_q[0], qreg_q[1], qreg_q[2])\n",
    "\n",
    "#PROTOCOLO DE TELEPORTACIÓN\n",
    "##Inicialización de estado de Bell: Se inicia el estado beta_00\n",
    "circuit.h(qreg_q[1]) # Se pone a q1 en superposición\n",
    "circuit.cx(qreg_q[1], qreg_q[2]) #Se entrelaza con q2 mediante una compuerta not controlada (cx)\n",
    "circuit.cx(qreg_q[0], qreg_q[1]) #Se entrelaza con q0 (qubit a enviar) mediante la misma operación\n",
    "circuit.h(qreg_q[0]) #Se pone en superposición este estado resultante\n",
    "\n",
    "##Continuación del protocolo: Colapsar los estados\n",
    "circuit.measure(qreg_q[0], creg_c[0])  #Se hace una medición en q0 y q1 haciendo que sus estados colapsen\n",
    "circuit.measure(qreg_q[1], creg_c[1])\n",
    "circuit.barrier(qreg_q[1], qreg_q[0], qreg_q[2])\n",
    "\n",
    "##Cierre del protocolo\n",
    "circuit.cx(qreg_q[1], qreg_q[2]) #Se finaliza el protocolo asignando una compuerta cnot para que q2 ajuste su estado en el momento que q0 y q1 comunican el estado resultante que han obtenido, para que así q2 lo ajuste. \n",
    "circuit.cz(qreg_q[0], qreg_q[2]) #Se realiza lo mismo con una cz entra q0 y q1.\n",
    "#circuit.measure(qreg_q[2],creg_c[2]) #Se hace medición del estado q_2 \n",
    "circuit.draw()"
   ]
  },
  {
   "cell_type": "code",
   "execution_count": 33,
   "metadata": {},
   "outputs": [
    {
     "data": {
      "image/png": "[encoded data removed]",
      "text/plain": [
       "<Figure size 504x360 with 1 Axes>"
      ]
     },
     "execution_count": 33,
     "metadata": {},
     "output_type": "execute_result"
    }
   ],
   "source": [
    "# #RESULTADOS experimentaless, realizados en la computadora cuántica seleccionada\n",
    "job = execute(circuit, backend=qcomp).result() \n",
    "# job_monitor(job)\n",
    "#Se muestra a manera de histograma los resultados obtenidos tras ejecutar este circuito en un número considerable de ocasiones\n",
    "from qiskit.tools.visualization import plot_histogram\n",
    "counts=job.get_counts(circuit)\n",
    "plot_histogram(job.get_counts(circuit))"
   ]
  },
  {
   "cell_type": "code",
   "execution_count": 39,
   "metadata": {},
   "outputs": [
    {
     "name": "stdout",
     "output_type": "stream",
     "text": [
      "Job Status: job has successfully run\n",
      "rho_(q_2)= [[0.506 +0.j     0.3616+0.0744j]\n",
      " [0.3616-0.0744j 0.494 +0.j    ]]\n",
      "     ┌───┐\n",
      "q_0: ┤ H ├\n",
      "     └───┘\n",
      "\n",
      "Statevector([0.70710678+0.j, 0.70710678+0.j],\n",
      "            dims=(2,))\n",
      "\n",
      "Fidelidad del estado obtenido respecto al inicial q_0: F = 0.86160\n"
     ]
    }
   ],
   "source": [
    "#Proceso de tomografía siendo ejecutado de forma experiemtal en una computadora cuántica \n",
    "\n",
    "#Ojo, para esto siempre dejar como comentario la línea circuit.measure(qreg_q[2],creg_c[2]) \n",
    "#en el circuito y ejecutar ese bloque.\n",
    "\n",
    "#Se manda a ejecutar esta función para su simulación\n",
    "job = qiskit.execute(qst_q0,backend=qcomp, shots=5000)\n",
    "\n",
    "job_monitor(job)\n",
    "#Se hace un ajuste del resultado en comparación del estado otorgado al inicio\n",
    "fiteo_tomografia = StateTomographyFitter(job.result(), qst_q0) \n",
    "fiteo_tomografia.data #Se muestra la distribución tras pasarlo por cada uno de los operadores\n",
    "# Se hace el ajuste de tomografía  para obtener la matríz de densidad de la misma\n",
    "rho_fit_q2 = fiteo_tomografia.fit(method='lstsq')\n",
    "print(\"rho_(q_2)=\",rho_fit_q2)\n",
    "\n",
    "#Se crea otro \"circuito\" en donde se declara un vector análogo a q_0 que vendría siendo el estado +\n",
    "q2 = QuantumRegister(1, 'q')\n",
    "q0 = QuantumCircuit(q2)\n",
    "\n",
    "q0.h(q2[0])\n",
    "print(q0)\n",
    "print(\"\")\n",
    "#Se declara a este como el estado objetivo para realizar la comparación con la matríz de densidad obtenida antes\n",
    "estado_objetivo = qi.Statevector.from_instruction(q0)\n",
    "print(estado_objetivo)\n",
    "print(\"\")\n",
    "\n",
    "#Se compara la fidelidad del estado obtenido con el estado correspondiente a q_0 (estado +)\n",
    "fidelidad_estado = qi.state_fidelity(rho_fit_q2, estado_objetivo)\n",
    "print('Fidelidad del estado obtenido respecto al inicial q_0: F = {:.5f}'.format(fidelidad_estado))"
   ]
  },
  {
   "cell_type": "markdown",
   "metadata": {},
   "source": [
    "Por lo tanto, el circuito presentado cumple con el protocolo de teleportación. Sin embargo, experimentalmente las computadoras cuánticas necesitan ser refinadas para dar con resultados acordes a las simulaciones. Esto puede deberse a ruido o imperfecciones en el equipo las cuales deben ser ajustadas en este código para su uso experimental \n"
   ]
  }
 ],
 "metadata": {
  "colab": {
   "name": "Teleportación.ipynb",
   "provenance": []
  },
  "kernelspec": {
   "display_name": "Python 3",
   "language": "python",
   "name": "python3"
  },
  "language_info": {
   "codemirror_mode": {
    "name": "ipython",
    "version": 3
   },
   "file_extension": ".py",
   "mimetype": "text/x-python",
   "name": "python",
   "nbconvert_exporter": "python",
   "pygments_lexer": "ipython3",
   "version": "3.8.8"
  }
 },
 "nbformat": 4,
 "nbformat_minor": 1
}
