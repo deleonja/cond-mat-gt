{
  "nbformat": 4,
  "nbformat_minor": 0,
  "metadata": {
    "colab": {
      "name": "Ejemplo Pauli().ipynb",
      "provenance": [],
      "collapsed_sections": []
    },
    "kernelspec": {
      "name": "python3",
      "display_name": "Python 3"
    }
  },
  "cells": [
    {
      "cell_type": "markdown",
      "metadata": {
        "id": "cWHuHqI6Q_q0"
      },
      "source": [
        "## **Ejemplo introductorio a Quantum.py**"
      ]
    },
    {
      "cell_type": "markdown",
      "metadata": {
        "id": "cg_Ar9FyRPof"
      },
      "source": [
        "QuantumCh.py cuenta con funciones muy útiles en cuanto a usos relacionados a mecánica cuántica. Uno de ellos puede ser una cadena de espines. A continuación se muestran un par de ejemplos para las funciones Pauli(), Comm() y matrix_form()."
      ]
    },
    {
      "cell_type": "code",
      "metadata": {
        "colab": {
          "base_uri": "https://localhost:8080/"
        },
        "id": "cijuPrlrBFfh",
        "outputId": "bb076083-69b2-4635-b3b5-b408d2081b0b"
      },
      "source": [
        "from google.colab import drive\r\n",
        "drive.mount('/content/drive')\r\n"
      ],
      "execution_count": 8,
      "outputs": [
        {
          "output_type": "stream",
          "text": [
            "Mounted at /content/drive\n"
          ],
          "name": "stdout"
        }
      ]
    },
    {
      "cell_type": "code",
      "metadata": {
        "colab": {
          "base_uri": "https://localhost:8080/"
        },
        "id": "ZIH9AWMXBHsG",
        "outputId": "2c800eaf-3ed1-4e30-906c-3800a10d5623"
      },
      "source": [
        "cd drive\r\n"
      ],
      "execution_count": 11,
      "outputs": [
        {
          "output_type": "stream",
          "text": [
            "/content/drive\n"
          ],
          "name": "stdout"
        }
      ]
    },
    {
      "cell_type": "code",
      "metadata": {
        "colab": {
          "base_uri": "https://localhost:8080/"
        },
        "id": "7IWz68VQlwZE",
        "outputId": "81346e62-0589-47c5-a274-2b2c31635d2f"
      },
      "source": [
        "cd MyDrive/"
      ],
      "execution_count": 12,
      "outputs": [
        {
          "output_type": "stream",
          "text": [
            "/content/drive/MyDrive\n"
          ],
          "name": "stdout"
        }
      ]
    },
    {
      "cell_type": "code",
      "metadata": {
        "id": "5djPutonBsXE"
      },
      "source": [
        "import numpy as np\r\n",
        "import quantumCh as quant\r\n"
      ],
      "execution_count": 13,
      "outputs": []
    },
    {
      "cell_type": "markdown",
      "metadata": {
        "id": "6Iu8GboemMjy"
      },
      "source": [
        "Quantum.py cuenta con la función Pauli(). Esta función es capaz de realizar el producto tensorial entre matrices de Pauli. Esto puede ser muy útil para distintos tipos de problemas. Específicamente cuando se trabaja con varias partículas con espín y estudiando como ellas interaccionan.  "
      ]
    },
    {
      "cell_type": "markdown",
      "metadata": {
        "id": "JW3Zu0_Wmrkf"
      },
      "source": [
        "La forma en como funciona Pauli() se da agregando una lista conteniendo las matríces de pauli que se desean multiplicar. A cada una se le asignó un número, siendo de la siguiente forma\r\n",
        "$$0 \\rightarrow \\mathbb{I} $$\r\n",
        "$$1 \\rightarrow \\sigma_x $$\r\n",
        "$$2 \\rightarrow \\sigma_y $$\r\n",
        "$$3 \\rightarrow \\sigma_z $$\r\n",
        "\r\n",
        "Entonces si por ejemplo yo quisiera ver la matríz resultante de la operación $\\sigma_x \\otimes \\sigma_y$ sería declarando la función como\r\n"
      ]
    },
    {
      "cell_type": "markdown",
      "metadata": {
        "id": "qO_WH1bqnpxJ"
      },
      "source": [
        "\r\n",
        "\r\n",
        "```\r\n",
        "Pauli([1,2])\r\n",
        "```\r\n",
        "Para este ejemplo, ya que importé Quantum.py como quant. Se declararía como\r\n",
        "\r\n",
        "```\r\n",
        "quant.Pauli([1,2])\r\n",
        "```\r\n",
        "A continuación se puede ver el resultado"
      ]
    },
    {
      "cell_type": "code",
      "metadata": {
        "colab": {
          "base_uri": "https://localhost:8080/"
        },
        "id": "65TX5zISoOTm",
        "outputId": "3b6e9546-ec81-4ae9-c553-ddba4b2de405"
      },
      "source": [
        "quant.matrix_form(quant.Pauli([1,2]))"
      ],
      "execution_count": 17,
      "outputs": [
        {
          "output_type": "stream",
          "text": [
            "⎛ 0j  0j  0j  -1j ⎞\n",
            "⎢ 0j  0j  1j  0j  ⎥\n",
            "⎢ 0j  -1j 0j  0j  ⎥\n",
            "⎝ 1j  0j  0j  0j  ⎠\n",
            "\n"
          ],
          "name": "stdout"
        }
      ]
    },
    {
      "cell_type": "markdown",
      "metadata": {
        "id": "uvBM79tRoXva"
      },
      "source": [
        "# **Ejemplo con una cadena de espínes**"
      ]
    },
    {
      "cell_type": "markdown",
      "metadata": {
        "id": "kZtBC4Q6QzG3"
      },
      "source": [
        "Para este ejemplo se supone una cadena de 4 partículas con espín 1/2. Al momento de trabajar se pueden llegar a necesitar datos tales como la matríz de Paulí x,y,z de cualquiera de las partículas. Esto expresado en forma matricial puede ser complicado conforme más aumente la cantidad de partículas, dado que la dimensión de las matríces es de 2^n (por el producto tensorial).\r\n",
        "Siendo más específico , cada matríz de Pauli en cada partícula se vería de la forma\r\n",
        "$$\\sigma^{\\alpha}_{1}= \\sigma^{\\alpha}\\otimes \\mathbb{I}\\otimes \\mathbb{I}\\otimes \\mathbb{I}$$\r\n",
        "$$\\sigma^{\\alpha}_{2}= \\mathbb{I}\\otimes \\sigma^{\\alpha}\\otimes \\mathbb{I}\\otimes \\mathbb{I}$$\r\n",
        "$$\\sigma^{\\alpha}_{3}= \\mathbb{I}\\otimes \\mathbb{I}\\otimes \\sigma^{\\alpha}\\otimes \\mathbb{I}$$\r\n",
        "$$\\sigma^{\\alpha}_{4}= \\mathbb{I}\\otimes \\mathbb{I}\\otimes \\mathbb{I}\\otimes \\sigma^{\\alpha}$$\r\n"
      ]
    },
    {
      "cell_type": "markdown",
      "metadata": {
        "id": "EGO7JTUah02U"
      },
      "source": [
        "Para esto se toma ventaja de la función Pauli(), para poder conocer cada una de ellas. "
      ]
    },
    {
      "cell_type": "code",
      "metadata": {
        "id": "c4zsbzacMBQp"
      },
      "source": [
        "#Matrices de Pauli para cada partícula\r\n",
        "\r\n",
        "#Matrices de Pauli x\r\n",
        "sigmax_p1=quant.Pauli([1,0,0,0]) #Se hace producto tensorial entre la matríz de pauli x por la identidad, esto sobre la primera partícula\r\n",
        "sigmax_p2=quant.Pauli([0,1,0,0]) #El mismo proceso sobre la segunda\r\n",
        "sigmax_p3=quant.Pauli([0,0,1,0]) #De igual manera para la tercera\r\n",
        "sigmax_p4=quant.Pauli([0,0,0,1]) #finalmente con la cuarta\r\n",
        "\r\n",
        "#Matrices de Pauli y; basta con realizar el mismo proceso cambiando el 1 por 2, ya que esta representa sigma_y\r\n",
        "sigmay_p1=quant.Pauli([2,0,0,0])\r\n",
        "sigmay_p2=quant.Pauli([0,2,0,0])\r\n",
        "sigmay_p3=quant.Pauli([0,0,2,0])\r\n",
        "sigmay_p4=quant.Pauli([0,0,0,2])\r\n",
        "\r\n",
        "#Matrices de Pauli z; basta con realizar el mismo proceso cambiando el 1 por 2, ya que esta representa sigma_y\r\n",
        "sigmaz_p1=quant.Pauli([3,0,0,0]) \r\n",
        "sigmaz_p2=quant.Pauli([0,3,0,0]) \r\n",
        "sigmaz_p3=quant.Pauli([0,0,3,0])\r\n",
        "sigmaz_p4=quant.Pauli([0,0,0,3])\r\n"
      ],
      "execution_count": 14,
      "outputs": []
    },
    {
      "cell_type": "markdown",
      "metadata": {
        "id": "OnY1UGzMSDv5"
      },
      "source": [
        "Si se desea ver cualquiera de ellas puede hacerse uso de la misma función matrixform(), y el tipo de matríz que se deseee. Pongamos de ejemplo que queremos ver la matríz $\\sigma^{x}_{1}$"
      ]
    },
    {
      "cell_type": "code",
      "metadata": {
        "id": "0wv31aQtSO5U",
        "colab": {
          "base_uri": "https://localhost:8080/"
        },
        "outputId": "0a35e063-e40f-43ee-a324-d90cfb7b9caa"
      },
      "source": [
        "quant.matrix_form(sigmax_p1) "
      ],
      "execution_count": 15,
      "outputs": [
        {
          "output_type": "stream",
          "text": [
            "⎛   0j     0j     0j     0j     0j     0j     0j     0j   (1+0j)   0j     0j     0j     0j     0j     0j     0j   ⎞\n",
            "⎢   0j     0j     0j     0j     0j     0j     0j     0j     0j   (1+0j)   0j     0j     0j     0j     0j     0j   ⎥\n",
            "⎢   0j     0j     0j     0j     0j     0j     0j     0j     0j     0j   (1+0j)   0j     0j     0j     0j     0j   ⎥\n",
            "⎢   0j     0j     0j     0j     0j     0j     0j     0j     0j     0j     0j   (1+0j)   0j     0j     0j     0j   ⎥\n",
            "⎢   0j     0j     0j     0j     0j     0j     0j     0j     0j     0j     0j     0j   (1+0j)   0j     0j     0j   ⎥\n",
            "⎢   0j     0j     0j     0j     0j     0j     0j     0j     0j     0j     0j     0j     0j   (1+0j)   0j     0j   ⎥\n",
            "⎢   0j     0j     0j     0j     0j     0j     0j     0j     0j     0j     0j     0j     0j     0j   (1+0j)   0j   ⎥\n",
            "⎢   0j     0j     0j     0j     0j     0j     0j     0j     0j     0j     0j     0j     0j     0j     0j   (1+0j) ⎥\n",
            "⎢ (1+0j)   0j     0j     0j     0j     0j     0j     0j     0j     0j     0j     0j     0j     0j     0j     0j   ⎥\n",
            "⎢   0j   (1+0j)   0j     0j     0j     0j     0j     0j     0j     0j     0j     0j     0j     0j     0j     0j   ⎥\n",
            "⎢   0j     0j   (1+0j)   0j     0j     0j     0j     0j     0j     0j     0j     0j     0j     0j     0j     0j   ⎥\n",
            "⎢   0j     0j     0j   (1+0j)   0j     0j     0j     0j     0j     0j     0j     0j     0j     0j     0j     0j   ⎥\n",
            "⎢   0j     0j     0j     0j   (1+0j)   0j     0j     0j     0j     0j     0j     0j     0j     0j     0j     0j   ⎥\n",
            "⎢   0j     0j     0j     0j     0j   (1+0j)   0j     0j     0j     0j     0j     0j     0j     0j     0j     0j   ⎥\n",
            "⎢   0j     0j     0j     0j     0j     0j   (1+0j)   0j     0j     0j     0j     0j     0j     0j     0j     0j   ⎥\n",
            "⎝   0j     0j     0j     0j     0j     0j     0j   (1+0j)   0j     0j     0j     0j     0j     0j     0j     0j   ⎠\n",
            "\n"
          ],
          "name": "stdout"
        }
      ]
    },
    {
      "cell_type": "markdown",
      "metadata": {
        "id": "Xa5uHfaPSagj"
      },
      "source": [
        "El hamiltoniano aquí esta definido como\r\n",
        "$$H = -J (\\sigma_1^x \\sigma_2^x + \\sigma_1^y\\sigma_2^y + \\sigma_2^x\\sigma_3^x +\\sigma_2^y\\sigma_3^y + \\sigma_3^x\\sigma_4^x + \\sigma_3^y\\sigma_4^y)$$\r\n",
        "\r\n",
        "\r\n"
      ]
    },
    {
      "cell_type": "markdown",
      "metadata": {
        "id": "numRBSazjEYK"
      },
      "source": [
        "Sin embargo, aquí también podríamos ver si el hamiltoniano conmuta con $\\sum_{n=1}^{4}\\sigma^{z}_{n}$."
      ]
    },
    {
      "cell_type": "markdown",
      "metadata": {
        "id": "fY1tuvJTjAM2"
      },
      "source": [
        "Para realizar esta acción se puede tomar ventaja de la función\r\n",
        "\r\n",
        "```\r\n",
        "Comm(A, B)\r\n",
        "```\r\n",
        "incluída en Quantumch.py"
      ]
    },
    {
      "cell_type": "markdown",
      "metadata": {
        "id": "5B7wtvMHkWK1"
      },
      "source": [
        "Por lo que podemos escribir tanto la sumatoria como el hamiltoniano utilizando la función Pauli() para encontrar las respectivas componentes. Aclaro se también se pueden usar las variables anteriormente declaradas, sin embargo, dejé el hamiltoniano en terminos de Pauli() para hacer énfasis en como se visualiza al momento de programar.\r\n"
      ]
    },
    {
      "cell_type": "code",
      "metadata": {
        "id": "b3iIbD-JhFkC",
        "colab": {
          "base_uri": "https://localhost:8080/"
        },
        "outputId": "c9de480d-9aba-46e3-ef2a-c663f96056cd"
      },
      "source": [
        "#Sumatoria de sigma_z\n",
        "indices = [] #Se inicia una lista en donde se almacenara\n",
        "for i in range(4): #Se hacen dos for loops en donde agregará un 3 (correspondiente a sigmaz) cuando se pase por la i-ésima partícula, en cualquie otro caso rellenará con ceros.\n",
        "  indices.append([])\n",
        "  for j in range(4):\n",
        "    if i == j: \n",
        "      indices[i].append(3)\n",
        "    else: \n",
        "      indices[i].append(0)\n",
        "sumSigmaZ = 0; \n",
        "\n",
        "for ind in indices:\n",
        "  sumSigmaZ = sumSigmaZ + quant.Pauli(ind) #Se suma cada matríz de pauli valuada en cada i-ésimo índice\n",
        "\n",
        "#Anotando el hamiltoniano  \n",
        "J = 1 #Se le da un valor cualquiera a J, no es el objetivo del código actual.\n",
        "H = -J*(quant.Pauli([1,1,0,0]) + quant.Pauli([2,2,0,0]) + quant.Pauli([0,1,1,0]) + quant.Pauli([0,2,2,0]) + quant.Pauli([0,0,1,1]) + quant.Pauli([0,0,2,2]))   #Se reescribe el hamiltoniano usando Pauli()\n",
        "\n",
        "\n",
        "#Impresión de resultados en su forma matricial\n",
        "quant.matrix_form(sumSigmaZ)\n",
        "quant.matrix_form(H) \n",
        "\n",
        "#Se realiza la conmutación\n",
        "print(\"El conmutador de H y sumSigmaZ es igual a cero?\")\n",
        "print(np.array_equal(quant.Comm(H, sumSigmaZ), np.zeros((16,16), dtype=complex))) #Se encuentra el conmutador entre ambos y compara con una matríz de ceros, respondiendo con valor falso o verdadero."
      ],
      "execution_count": 16,
      "outputs": [
        {
          "output_type": "stream",
          "text": [
            "⎛ (4+0j)    0j      0j      0j      0j      0j      0j      0j      0j      0j      0j      0j      0j      0j      0j      0j    ⎞\n",
            "⎢   0j    (2+0j)    0j      0j      0j      0j      0j      0j      0j      0j      0j      0j      0j      0j      0j      0j    ⎥\n",
            "⎢   0j      0j    (2+0j)    0j      0j      0j      0j      0j      0j      0j      0j      0j      0j      0j      0j      0j    ⎥\n",
            "⎢   0j      0j      0j      0j      0j      0j      0j      0j      0j      0j      0j      0j      0j      0j      0j      0j    ⎥\n",
            "⎢   0j      0j      0j      0j    (2+0j)    0j      0j      0j      0j      0j      0j      0j      0j      0j      0j      0j    ⎥\n",
            "⎢   0j      0j      0j      0j      0j      0j      0j      0j      0j      0j      0j      0j      0j      0j      0j      0j    ⎥\n",
            "⎢   0j      0j      0j      0j      0j      0j      0j      0j      0j      0j      0j      0j      0j      0j      0j      0j    ⎥\n",
            "⎢   0j      0j      0j      0j      0j      0j      0j    (-2+0j)   0j      0j      0j      0j      0j      0j      0j      0j    ⎥\n",
            "⎢   0j      0j      0j      0j      0j      0j      0j      0j    (2+0j)    0j      0j      0j      0j      0j      0j      0j    ⎥\n",
            "⎢   0j      0j      0j      0j      0j      0j      0j      0j      0j      0j      0j      0j      0j      0j      0j      0j    ⎥\n",
            "⎢   0j      0j      0j      0j      0j      0j      0j      0j      0j      0j      0j      0j      0j      0j      0j      0j    ⎥\n",
            "⎢   0j      0j      0j      0j      0j      0j      0j      0j      0j      0j      0j    (-2+0j)   0j      0j      0j      0j    ⎥\n",
            "⎢   0j      0j      0j      0j      0j      0j      0j      0j      0j      0j      0j      0j      0j      0j      0j      0j    ⎥\n",
            "⎢   0j      0j      0j      0j      0j      0j      0j      0j      0j      0j      0j      0j      0j    (-2+0j)   0j      0j    ⎥\n",
            "⎢   0j      0j      0j      0j      0j      0j      0j      0j      0j      0j      0j      0j      0j      0j    (-2+0j)   0j    ⎥\n",
            "⎝   0j      0j      0j      0j      0j      0j      0j      0j      0j      0j      0j      0j      0j      0j      0j    (-4+0j) ⎠\n",
            "\n",
            "⎛ (-0+0j) (-0+0j) (-0+0j) (-0+0j) (-0+0j) (-0+0j) (-0+0j) (-0+0j) (-0+0j) (-0+0j) (-0+0j) (-0+0j) (-0+0j) (-0+0j) (-0+0j) (-0+0j) ⎞\n",
            "⎢ (-0+0j) (-0+0j) (-2+0j) (-0+0j) (-0+0j) (-0+0j) (-0+0j) (-0+0j) (-0+0j) (-0+0j) (-0+0j) (-0+0j) (-0+0j) (-0+0j) (-0+0j) (-0+0j) ⎥\n",
            "⎢ (-0+0j) (-2+0j) (-0+0j) (-0+0j) (-2+0j) (-0+0j) (-0+0j) (-0+0j) (-0+0j) (-0+0j) (-0+0j) (-0+0j) (-0+0j) (-0+0j) (-0+0j) (-0+0j) ⎥\n",
            "⎢ (-0+0j) (-0+0j) (-0+0j) (-0+0j) (-0+0j) (-2+0j) (-0+0j) (-0+0j) (-0+0j) (-0+0j) (-0+0j) (-0+0j) (-0+0j) (-0+0j) (-0+0j) (-0+0j) ⎥\n",
            "⎢ (-0+0j) (-0+0j) (-2+0j) (-0+0j) (-0+0j) (-0+0j) (-0+0j) (-0+0j) (-2+0j) (-0+0j) (-0+0j) (-0+0j) (-0+0j) (-0+0j) (-0+0j) (-0+0j) ⎥\n",
            "⎢ (-0+0j) (-0+0j) (-0+0j) (-2+0j) (-0+0j) (-0+0j) (-2+0j) (-0+0j) (-0+0j) (-2+0j) (-0+0j) (-0+0j) (-0+0j) (-0+0j) (-0+0j) (-0+0j) ⎥\n",
            "⎢ (-0+0j) (-0+0j) (-0+0j) (-0+0j) (-0+0j) (-2+0j) (-0+0j) (-0+0j) (-0+0j) (-0+0j) (-2+0j) (-0+0j) (-0+0j) (-0+0j) (-0+0j) (-0+0j) ⎥\n",
            "⎢ (-0+0j) (-0+0j) (-0+0j) (-0+0j) (-0+0j) (-0+0j) (-0+0j) (-0+0j) (-0+0j) (-0+0j) (-0+0j) (-2+0j) (-0+0j) (-0+0j) (-0+0j) (-0+0j) ⎥\n",
            "⎢ (-0+0j) (-0+0j) (-0+0j) (-0+0j) (-2+0j) (-0+0j) (-0+0j) (-0+0j) (-0+0j) (-0+0j) (-0+0j) (-0+0j) (-0+0j) (-0+0j) (-0+0j) (-0+0j) ⎥\n",
            "⎢ (-0+0j) (-0+0j) (-0+0j) (-0+0j) (-0+0j) (-2+0j) (-0+0j) (-0+0j) (-0+0j) (-0+0j) (-2+0j) (-0+0j) (-0+0j) (-0+0j) (-0+0j) (-0+0j) ⎥\n",
            "⎢ (-0+0j) (-0+0j) (-0+0j) (-0+0j) (-0+0j) (-0+0j) (-2+0j) (-0+0j) (-0+0j) (-2+0j) (-0+0j) (-0+0j) (-2+0j) (-0+0j) (-0+0j) (-0+0j) ⎥\n",
            "⎢ (-0+0j) (-0+0j) (-0+0j) (-0+0j) (-0+0j) (-0+0j) (-0+0j) (-2+0j) (-0+0j) (-0+0j) (-0+0j) (-0+0j) (-0+0j) (-2+0j) (-0+0j) (-0+0j) ⎥\n",
            "⎢ (-0+0j) (-0+0j) (-0+0j) (-0+0j) (-0+0j) (-0+0j) (-0+0j) (-0+0j) (-0+0j) (-0+0j) (-2+0j) (-0+0j) (-0+0j) (-0+0j) (-0+0j) (-0+0j) ⎥\n",
            "⎢ (-0+0j) (-0+0j) (-0+0j) (-0+0j) (-0+0j) (-0+0j) (-0+0j) (-0+0j) (-0+0j) (-0+0j) (-0+0j) (-2+0j) (-0+0j) (-0+0j) (-2+0j) (-0+0j) ⎥\n",
            "⎢ (-0+0j) (-0+0j) (-0+0j) (-0+0j) (-0+0j) (-0+0j) (-0+0j) (-0+0j) (-0+0j) (-0+0j) (-0+0j) (-0+0j) (-0+0j) (-2+0j) (-0+0j) (-0+0j) ⎥\n",
            "⎝ (-0+0j) (-0+0j) (-0+0j) (-0+0j) (-0+0j) (-0+0j) (-0+0j) (-0+0j) (-0+0j) (-0+0j) (-0+0j) (-0+0j) (-0+0j) (-0+0j) (-0+0j) (-0+0j) ⎠\n",
            "\n",
            "El conmutador de H y sumSigmaZ es igual a cero?\n",
            "True\n"
          ],
          "name": "stdout"
        }
      ]
    },
    {
      "cell_type": "markdown",
      "metadata": {
        "id": "azs6S9NsZlIt"
      },
      "source": [
        "Se puede saber que tanto el Hamiltoniano como la suma de $\\sum \\sigma^{z}$ comparten una misma base. Esto da partida a poder encontrar los vectores que la conforman.  Si se desea leer mas acerca de estas cadenas de espines se puede buscar acerca del modelo de Ising"
      ]
    }
  ]
}
